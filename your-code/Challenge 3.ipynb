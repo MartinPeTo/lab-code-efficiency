{
  "nbformat": 4,
  "nbformat_minor": 0,
  "metadata": {
    "kernelspec": {
      "display_name": "Python 3",
      "language": "python",
      "name": "python3"
    },
    "language_info": {
      "codemirror_mode": {
        "name": "ipython",
        "version": 3
      },
      "file_extension": ".py",
      "mimetype": "text/x-python",
      "name": "python",
      "nbconvert_exporter": "python",
      "pygments_lexer": "ipython3",
      "version": "3.6.3"
    },
    "colab": {
      "name": "Challenge 3.ipynb",
      "version": "0.3.2",
      "provenance": []
    }
  },
  "cells": [
    {
      "cell_type": "markdown",
      "metadata": {
        "id": "9NTM0hJGldLV",
        "colab_type": "text"
      },
      "source": [
        "# Challenge 3"
      ]
    },
    {
      "cell_type": "markdown",
      "metadata": {
        "id": "0cd13TOaldLY",
        "colab_type": "text"
      },
      "source": [
        "You are presented with an integer number larger than 5. Your goal is to identify the longest side\n",
        "possible in a right triangle whose sides are not longer than the number you are given.\n",
        "\n",
        "For example, if you are given the number 15, there are 3 possibilities to compose right triangles:\n",
        "\n",
        "1. [3, 4, 5]\n",
        "2. [6, 8, 10]\n",
        "3. [5, 12, 13]\n",
        "\n",
        "The following function shows one way to solve the problem but the code is not ideal or efficient.\n",
        "Refactor the code based on what you have learned about code simplicity and efficiency."
      ]
    },
    {
      "cell_type": "code",
      "metadata": {
        "id": "hhRVAqJ1ldLZ",
        "colab_type": "code",
        "colab": {
          "base_uri": "https://localhost:8080/",
          "height": 68
        },
        "outputId": "e6cd2eb1-b090-4f9f-c833-d78baa29f792"
      },
      "source": [
        "def my_function(X):\n",
        "    sides = []\n",
        "    for x in range(X, 1, -1): #Como buscamos el máximo valor, hacemos el loop al reves (de mayor a menor) para no tener que hacer todas las iteraciones, solo hasta que\n",
        "        for y in range(X, 1, -1):\n",
        "            for z in range(X, 1, -1):\n",
        "                sides = [x, y, z]\n",
        "                sides.sort() #Ordenamos los lados para saber cual es la hipotenusa (que será el valor máximo)\n",
        "                if (sides[2]**2==sides[1]**2+sides[0]**2):\n",
        "                    print(sides)\n",
        "                    return sides[2] #Devolvemos el primer valor de hipotenusa que nos salga.\n",
        "\n",
        "X = int(input(\"What is the maximal length of the triangle side? Enter a number: \"))\n",
        "\n",
        "print(\"The longest side possible is \" + str(my_function(X)))"
      ],
      "execution_count": 9,
      "outputs": [
        {
          "output_type": "stream",
          "text": [
            "What is the maximal length of the triangle side? Enter a number: 49\n",
            "[27, 36, 45]\n",
            "The longest side possible is 45\n"
          ],
          "name": "stdout"
        }
      ]
    }
  ]
}