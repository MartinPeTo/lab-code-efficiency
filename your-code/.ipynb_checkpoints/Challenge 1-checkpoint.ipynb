{
 "cells": [
  {
   "cell_type": "markdown",
   "metadata": {},
   "source": [
    "# Challenge 1\n",
    "\n",
    "This is a dumb calculator that can add and subtract whole numbers from zero to five.\n",
    "When you run the code, you are prompted to enter two numbers (in the form of English\n",
    "word instead of number) and the operator sign (also in the form of English word).\n",
    "The code will perform the calculation and give the result if your input is what it\n",
    "expects.\n",
    "\n",
    "The code is very long and messy. Refactor it according to what you have learned about\n",
    "code simplicity and efficiency."
   ]
  },
  {
   "cell_type": "code",
   "execution_count": 9,
   "metadata": {},
   "outputs": [
    {
     "name": "stdout",
     "output_type": "stream",
     "text": [
      "Welcome to this calculator!\n",
      "    It can add and subtract whole numbers from zero to five\n",
      "    \n",
      "Please choose your first number (zero to five): five\n",
      "What do you want to do? plus or minus: three\n",
      "Please choose your second number (zero to five): two\n",
      "I am not able to answer this question. Check your input.\n",
      "Welcome to this calculator!\n",
      "    It can add and subtract whole numbers from zero to five\n",
      "    \n",
      "Please choose your first number (zero to five): one\n",
      "What do you want to do? plus or minus: minum\n",
      "Please choose your second number (zero to five): five\n",
      "I am not able to answer this question. Check your input.\n",
      "Welcome to this calculator!\n",
      "    It can add and subtract whole numbers from zero to five\n",
      "    \n",
      "Please choose your first number (zero to five): one\n",
      "What do you want to do? plus or minus: minus\n",
      "Please choose your second number (zero to five): three\n",
      "one minus three equals negative two\n",
      "Thanks for using this calculator, goodbye :)\n"
     ]
    },
    {
     "ename": "UnboundLocalError",
     "evalue": "local variable 'result' referenced before assignment",
     "output_type": "error",
     "traceback": [
      "\u001b[0;31m---------------------------------------------------------------------------\u001b[0m",
      "\u001b[0;31mUnboundLocalError\u001b[0m                         Traceback (most recent call last)",
      "\u001b[0;32m<ipython-input-9-fbc93c6bc992>\u001b[0m in \u001b[0;36m<module>\u001b[0;34m\u001b[0m\n\u001b[1;32m     56\u001b[0m \u001b[0;34m\u001b[0m\u001b[0m\n\u001b[1;32m     57\u001b[0m \u001b[0;31m#Ahora llamamos a la función\u001b[0m\u001b[0;34m\u001b[0m\u001b[0;34m\u001b[0m\u001b[0;34m\u001b[0m\u001b[0m\n\u001b[0;32m---> 58\u001b[0;31m \u001b[0mcalculator\u001b[0m\u001b[0;34m(\u001b[0m\u001b[0;34m)\u001b[0m\u001b[0;34m\u001b[0m\u001b[0;34m\u001b[0m\u001b[0m\n\u001b[0m",
      "\u001b[0;32m<ipython-input-9-fbc93c6bc992>\u001b[0m in \u001b[0;36mcalculator\u001b[0;34m()\u001b[0m\n\u001b[1;32m     42\u001b[0m         \u001b[0mprint\u001b[0m\u001b[0;34m(\u001b[0m\u001b[0;34m\"I am not able to answer this question. Check your input.\"\u001b[0m\u001b[0;34m)\u001b[0m\u001b[0;34m\u001b[0m\u001b[0;34m\u001b[0m\u001b[0m\n\u001b[1;32m     43\u001b[0m         \u001b[0;31m#Llamamos a la función\u001b[0m\u001b[0;34m\u001b[0m\u001b[0;34m\u001b[0m\u001b[0;34m\u001b[0m\u001b[0m\n\u001b[0;32m---> 44\u001b[0;31m         \u001b[0mcalculator\u001b[0m\u001b[0;34m(\u001b[0m\u001b[0;34m)\u001b[0m\u001b[0;34m\u001b[0m\u001b[0;34m\u001b[0m\u001b[0m\n\u001b[0m\u001b[1;32m     45\u001b[0m \u001b[0;34m\u001b[0m\u001b[0m\n\u001b[1;32m     46\u001b[0m     \u001b[0;32melif\u001b[0m \u001b[0mb\u001b[0m \u001b[0;34m==\u001b[0m \u001b[0;34m'plus'\u001b[0m\u001b[0;34m:\u001b[0m\u001b[0;34m\u001b[0m\u001b[0;34m\u001b[0m\u001b[0m\n",
      "\u001b[0;32m<ipython-input-9-fbc93c6bc992>\u001b[0m in \u001b[0;36mcalculator\u001b[0;34m()\u001b[0m\n\u001b[1;32m     49\u001b[0m         \u001b[0mresult\u001b[0m \u001b[0;34m=\u001b[0m \u001b[0mabs\u001b[0m\u001b[0;34m(\u001b[0m\u001b[0ma\u001b[0m\u001b[0;34m-\u001b[0m\u001b[0mc\u001b[0m\u001b[0;34m)\u001b[0m\u001b[0;34m\u001b[0m\u001b[0;34m\u001b[0m\u001b[0m\n\u001b[1;32m     50\u001b[0m \u001b[0;34m\u001b[0m\u001b[0m\n\u001b[0;32m---> 51\u001b[0;31m     \u001b[0moutput\u001b[0m \u001b[0;34m(\u001b[0m\u001b[0ma\u001b[0m\u001b[0;34m,\u001b[0m\u001b[0mb\u001b[0m\u001b[0;34m,\u001b[0m\u001b[0mc\u001b[0m\u001b[0;34m,\u001b[0m\u001b[0mresult\u001b[0m\u001b[0;34m)\u001b[0m\u001b[0;34m\u001b[0m\u001b[0;34m\u001b[0m\u001b[0m\n\u001b[0m\u001b[1;32m     52\u001b[0m \u001b[0;34m\u001b[0m\u001b[0m\n\u001b[1;32m     53\u001b[0m \u001b[0;34m\u001b[0m\u001b[0m\n",
      "\u001b[0;31mUnboundLocalError\u001b[0m: local variable 'result' referenced before assignment"
     ]
    }
   ],
   "source": [
    "#Definimos un diccionario con las equivalencias:\n",
    "num_dict = {\"zero\": 0, \"one\": 1, \"two\": 2, \"three\": 3, \"four\": 4, \"five\": 5, \"six\": 6, \"seven\": 7, \"eight\": 8, \"nine\":9, \"ten\":10}\n",
    "\n",
    "#Lo definimos todo como una función:\n",
    "def calculator():\n",
    "    #Imprimimos ambas lineas con un solo print\n",
    "    print(\"\"\"Welcome to this calculator!\n",
    "    It can add and subtract whole numbers from zero to five\n",
    "    \"\"\")\n",
    "    \n",
    "\n",
    "    #Definimos una función para sacar el numero:\n",
    "    def input_number(string):\n",
    "        if string in num_dict:\n",
    "            return(num_dict[string])\n",
    "        else:\n",
    "            return None\n",
    "\n",
    "    #Definimos otra función para sacar el output:\n",
    "    def output (a,b,c,result):\n",
    "        def number_to_string(number):\n",
    "            for string, num in num_dict.items():\n",
    "                if num == number:\n",
    "                    return string\n",
    "    \n",
    "        a_str=number_to_string(a)\n",
    "        c_str=number_to_string(c)\n",
    "        result_str=number_to_string(result)\n",
    "        #En caso de que el valor sea negativo\n",
    "        if c>a and b == 'minus':\n",
    "            result_str = 'negative '+result_str\n",
    "        output=\"%s %s %s equals %s\" % (a_str, b, c_str, result_str)\n",
    "        print(output)\n",
    "\n",
    "    #Hacemos los inputs llamando directamente a la función de sacar el numero:       \n",
    "    a = input_number(input('Please choose your first number (zero to five): '))\n",
    "    b = input('What do you want to do? plus or minus: ')\n",
    "    c = input_number(input('Please choose your second number (zero to five): '))\n",
    "\n",
    "    #Checkeamos lo primero que los inputs sean correctos.\n",
    "    if (a == None or c == None or (not b == 'plus' and not b == 'minus')):\n",
    "        print(\"I am not able to answer this question. Check your input.\")\n",
    "        #Llamamos a la función\n",
    "        calculator()\n",
    "\n",
    "    elif b == 'plus':\n",
    "        result = a+c\n",
    "    elif b == 'minus':\n",
    "        result = abs(a-c)\n",
    "\n",
    "    output (a,b,c,result)\n",
    "\n",
    "\n",
    "\n",
    "    print(\"Thanks for using this calculator, goodbye :)\")\n",
    "\n",
    "#Ahora llamamos a la función    \n",
    "calculator()"
   ]
  },
  {
   "cell_type": "code",
   "execution_count": null,
   "metadata": {},
   "outputs": [],
   "source": []
  }
 ],
 "metadata": {
  "kernelspec": {
   "display_name": "Python 3",
   "language": "python",
   "name": "python3"
  },
  "language_info": {
   "codemirror_mode": {
    "name": "ipython",
    "version": 3
   },
   "file_extension": ".py",
   "mimetype": "text/x-python",
   "name": "python",
   "nbconvert_exporter": "python",
   "pygments_lexer": "ipython3",
   "version": "3.6.8"
  }
 },
 "nbformat": 4,
 "nbformat_minor": 2
}
