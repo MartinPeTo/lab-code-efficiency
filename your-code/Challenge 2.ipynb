{
  "nbformat": 4,
  "nbformat_minor": 0,
  "metadata": {
    "kernelspec": {
      "display_name": "Python 3",
      "language": "python",
      "name": "python3"
    },
    "language_info": {
      "codemirror_mode": {
        "name": "ipython",
        "version": 3
      },
      "file_extension": ".py",
      "mimetype": "text/x-python",
      "name": "python",
      "nbconvert_exporter": "python",
      "pygments_lexer": "ipython3",
      "version": "3.6.3"
    },
    "colab": {
      "name": "Challenge 2.ipynb",
      "version": "0.3.2",
      "provenance": []
    }
  },
  "cells": [
    {
      "cell_type": "markdown",
      "metadata": {
        "id": "40r6CuashHfW",
        "colab_type": "text"
      },
      "source": [
        "# Challenge 2"
      ]
    },
    {
      "cell_type": "markdown",
      "metadata": {
        "id": "OInmAPwNhHfZ",
        "colab_type": "text"
      },
      "source": [
        "The code below generates a given number of random strings that consists of numbers and \n",
        "lower case English letters. You can also define the range of the variable lengths of\n",
        "the strings being generated.\n",
        "\n",
        "The code is functional but has a lot of room for improvement. Use what you have learned\n",
        "about simple and efficient code, refactor the code."
      ]
    },
    {
      "cell_type": "code",
      "metadata": {
        "id": "qa9H3zL8hHfa",
        "colab_type": "code",
        "colab": {}
      },
      "source": [
        "def RandomStringGenerator(l):\n",
        "  import random, string\n",
        "  #Generamos la aleatoriedad con listas ya creadas de caracteres. Quizas se podría hacer tambien con Regex.\n",
        "  s = ''.join(random.choice(string.ascii_lowercase + string.digits) for _ in range(l))\n",
        "  return s"
      ],
      "execution_count": 0,
      "outputs": []
    },
    {
      "cell_type": "code",
      "metadata": {
        "id": "h6vUiZDjhHff",
        "colab_type": "code",
        "colab": {}
      },
      "source": [
        "def BatchStringGenerator(n, a=8, b=12):\n",
        "    r = []\n",
        "    for i in range(n):\n",
        "      #No hace falta diferenciar los casos de si el min y max son iguales  para determinar la longitud de las strings.\n",
        "        import random\n",
        "        c = random.choice(range(a, b+1))\n",
        "        r.append(RandomStringGenerator(c))\n",
        "    return r"
      ],
      "execution_count": 0,
      "outputs": []
    },
    {
      "cell_type": "code",
      "metadata": {
        "id": "xuI07byzhHfh",
        "colab_type": "code",
        "colab": {}
      },
      "source": [
        "#Definimos todo el proceso en una función:\n",
        "def CreateRandomStrings():\n",
        "  a = int(input('Enter minimum string length: '))\n",
        "  b = int(input('Enter maximum string length: '))\n",
        "  n = int(input('How many random strings to generate? '))\n",
        "  \n",
        "  if a>b:\n",
        "    print('Incorrect min and max string lengths. Try again.')\n",
        "    CreateRandomStrings() #Volvemos a llamar a la función\n",
        "\n",
        "  print(BatchStringGenerator(n, a, b))"
      ],
      "execution_count": 0,
      "outputs": []
    },
    {
      "cell_type": "code",
      "metadata": {
        "id": "eJ8owlj9hvel",
        "colab_type": "code",
        "colab": {
          "base_uri": "https://localhost:8080/",
          "height": 85
        },
        "outputId": "a87e67b9-a800-4389-9fd0-8c741c4106f8"
      },
      "source": [
        "CreateRandomStrings()"
      ],
      "execution_count": 40,
      "outputs": [
        {
          "output_type": "stream",
          "text": [
            "Enter minimum string length: 2\n",
            "Enter maximum string length: 4\n",
            "How many random strings to generate? 6\n",
            "['jwg6', 'sl9y', 'tp2', '1eu', '3k4', 'wr1']\n"
          ],
          "name": "stdout"
        }
      ]
    }
  ]
}